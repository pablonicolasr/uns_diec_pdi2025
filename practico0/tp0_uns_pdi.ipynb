{
 "cells": [
  {
   "cell_type": "code",
   "execution_count": null,
   "id": "4a3a5218-d328-43b7-9c16-431b1b68dd12",
   "metadata": {},
   "outputs": [],
   "source": [
    "# load and display an image with Matplotlib\n",
    "import os\n",
    "import numpy as np\n",
    "import matplotlib.image as mpimg\n",
    "import matplotlib.pyplot as plt\n",
    "\n",
    "\n",
    "from matplotlib.widgets import Slider"
   ]
  },
  {
   "cell_type": "code",
   "execution_count": null,
   "id": "34402961-6273-4501-a3ae-6a7444a122f0",
   "metadata": {},
   "outputs": [],
   "source": [
    "# load image as pixel array\n",
    "# An image of a file opens\n",
    "image = mpimg.imread(os.path.join(os.getcwd(), \"shelly\", \"shelly720x521.jpg\")) # / 255\n",
    "\n",
    "plt.imshow(image)\n",
    "plt.axis(\"off\")\n",
    "plt.show()"
   ]
  },
  {
   "cell_type": "code",
   "execution_count": null,
   "id": "7929f73d-86ad-4f42-9add-bab6bb35a1ba",
   "metadata": {},
   "outputs": [],
   "source": [
    "if not os.path.exists(os.path.join(os.getcwd(), \"original\")):\n",
    "    os.makedirs(os.path.join(os.getcwd(), \"original\"))"
   ]
  },
  {
   "cell_type": "code",
   "execution_count": null,
   "id": "e1b5a20e-a628-4c89-9c99-d25d0e5d8415",
   "metadata": {},
   "outputs": [],
   "source": [
    "# A component of an image file is saved.\n",
    "mpimg.imsave(os.path.join(os.getcwd(), \"original\", \"original_image.jpg\"), image)"
   ]
  },
  {
   "cell_type": "code",
   "execution_count": null,
   "id": "b1723541-a70c-44b0-9f60-bcba5ad73d10",
   "metadata": {},
   "outputs": [],
   "source": [
    "# heigth, width, channels\n",
    "print(f\"Shape: {image.shape}\")\n",
    "# An image file has three dimensions\n",
    "print(f\"Dimensions: {image.ndim}\")\n",
    "# Image size\n",
    "print(f\"Size: {image.size}\")\n",
    "# Datatype\n",
    "print(f\"Size: {image.dtype}\")\n",
    "# bytes por canal/muestra\n",
    "print(f\"Size: {image.itemsize}\")"
   ]
  },
  {
   "cell_type": "code",
   "execution_count": null,
   "id": "47e8e020-2f20-41f1-8e01-c1c670ddd2fd",
   "metadata": {},
   "outputs": [],
   "source": [
    "# For example, we know that the size of file is 720x521 and we want to know about a value of a particular position\n",
    "print(image[0][0][0])\n",
    "print(image[0][0][1])\n",
    "print(image[0][0][2])"
   ]
  },
  {
   "cell_type": "code",
   "execution_count": null,
   "id": "3529b2de-9b9d-4d87-94ef-f7f03621ee53",
   "metadata": {},
   "outputs": [],
   "source": [
    "def inverted_img(image):\n",
    "    \n",
    "    img = image.copy()\n",
    "    \n",
    "    return 255 - img"
   ]
  },
  {
   "cell_type": "code",
   "execution_count": null,
   "id": "5608f83f-51bb-4275-8726-4a5b1d4c2b2b",
   "metadata": {},
   "outputs": [],
   "source": [
    "inv_image = inverted_img(image)\n",
    "plt.imshow(inv_image)\n",
    "plt.axis(\"off\")\n",
    "plt.show()"
   ]
  },
  {
   "cell_type": "code",
   "execution_count": null,
   "id": "48b6d016-c9ab-421e-b4f7-714ec0ac40a1",
   "metadata": {},
   "outputs": [],
   "source": [
    "if not os.path.exists(os.path.join(os.getcwd(), \"inverted\")):\n",
    "    os.makedirs(os.path.join(os.getcwd(), \"inverted\"))\n",
    "mpimg.imsave(os.path.join(os.getcwd(), \"inverted\", \"inverted_image.jpg\"), inv_image)"
   ]
  },
  {
   "cell_type": "code",
   "execution_count": null,
   "id": "9171ac2b-7f44-4f3e-a8f0-6c56b738bda4",
   "metadata": {},
   "outputs": [],
   "source": [
    "heigth, width, channels = image.shape\n",
    "\n",
    "modified_img = np.copy(image)"
   ]
  },
  {
   "cell_type": "code",
   "execution_count": null,
   "id": "013b42b0-a39f-4db1-90de-7b63466ecc54",
   "metadata": {},
   "outputs": [],
   "source": [
    "for y in range(heigth):\n",
    "    for x in range(width):\n",
    "        r, g, b = modified_img[y, x]\n",
    "        change_r = b\n",
    "        change_g = r\n",
    "        change_b = g       \n",
    "        modified_img[y, x] = [change_r, change_g, change_b]"
   ]
  },
  {
   "cell_type": "code",
   "execution_count": null,
   "id": "c1445177-2408-41e4-a0d6-9b0195a406dd",
   "metadata": {},
   "outputs": [],
   "source": [
    "modified_img = np.clip(modified_img, 0, 255)\n",
    "plt.imshow(modified_img)\n",
    "plt.axis(\"off\")\n",
    "plt.show()"
   ]
  },
  {
   "cell_type": "code",
   "execution_count": null,
   "id": "1beb027d-503b-46a8-92b5-16de36d5e810",
   "metadata": {},
   "outputs": [],
   "source": [
    "if not os.path.exists(os.path.join(os.getcwd(), \"modified\")):\n",
    "    os.makedirs(os.path.join(os.getcwd(), \"modified\"))\n",
    "mpimg.imsave(os.path.join(os.getcwd(), \"modified\", \"modified_image.jpg\"), modified_img)"
   ]
  },
  {
   "cell_type": "markdown",
   "id": "83507a74-b71e-4aaa-9cb5-deaa690a27ed",
   "metadata": {},
   "source": [
    "# Generate image component"
   ]
  },
  {
   "cell_type": "code",
   "execution_count": null,
   "id": "95d1c61e-7831-4755-9abd-0e1901b12be8",
   "metadata": {},
   "outputs": [],
   "source": [
    "# Representation of Euler's identity\n",
    "x = np.linspace(0, 2 * np.pi, 1000)\n",
    "\n",
    "# Calculate e^(ix)\n",
    "euler_identity = np.exp(1j * x)  # Usamos 1j para representar el número complejo i\n",
    "\n",
    "# Obtener las partes real e imaginaria\n",
    "real_part = np.real(euler_identity)\n",
    "imaginary_part = np.imag(euler_identity)\n",
    "\n",
    "if not os.path.exists(os.path.join(os.getcwd(), \"euler\")):\n",
    "    os.makedirs(os.path.join(os.getcwd(), \"euler\"))\n",
    "\n",
    "# Gráfica de la parte real e imaginaria\n",
    "fig = plt.figure(figsize=(8, 4))\n",
    "\n",
    "plt.plot(x, real_part, label='Parte Real')\n",
    "plt.plot(x, imaginary_part, label='Parte Imaginaria')\n",
    "plt.title(r'Gráfica de la Identidad de Euler: $e^{ix} = \\cos(x) + i\\sin(x)$')\n",
    "plt.xlabel(r'$x$ (radianes)')\n",
    "plt.ylabel('Valor')\n",
    "plt.legend()\n",
    "\n",
    "# Mostrar la gráfica en pantalla\n",
    "plt.show()"
   ]
  },
  {
   "cell_type": "code",
   "execution_count": null,
   "id": "2b5df08f-b21d-4f5a-8717-ae914dcf867a",
   "metadata": {},
   "outputs": [],
   "source": [
    "fig.savefig(\"./euler/euler_image.png\")"
   ]
  },
  {
   "cell_type": "markdown",
   "id": "b864e7c6-2ebb-4b79-aa1d-b45db3f8d7cf",
   "metadata": {},
   "source": [
    "# Conclusion\n",
    "\n",
    "The following have been applied:\r\n",
    "\r\n",
    "Methods for opening an image from a file and arranging the information in an image component. Methods for saving information from an image component to a file. Methods for accessing an image component and reading or modifying its contents. Methods for plotting or modifying an image component."
   ]
  },
  {
   "cell_type": "markdown",
   "id": "7413ca68-33e3-4515-b110-4a285f7e3450",
   "metadata": {},
   "source": [
    "# Workflow"
   ]
  }
 ],
 "metadata": {
  "kernelspec": {
   "display_name": "Python (pdi2025)",
   "language": "python",
   "name": "pdi2025"
  },
  "language_info": {
   "codemirror_mode": {
    "name": "ipython",
    "version": 3
   },
   "file_extension": ".py",
   "mimetype": "text/x-python",
   "name": "python",
   "nbconvert_exporter": "python",
   "pygments_lexer": "ipython3",
   "version": "3.13.7"
  }
 },
 "nbformat": 4,
 "nbformat_minor": 5
}
